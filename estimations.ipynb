{
 "cells": [
  {
   "cell_type": "code",
   "execution_count": 1,
   "id": "153db51a",
   "metadata": {},
   "outputs": [],
   "source": [
    "import numpy as np\n",
    "import pandas as pd\n",
    "import matplotlib.pyplot as plt\n",
    "import matplotlib as mpl\n",
    "%matplotlib inline\n",
    "mpl.rcParams['lines.linewidth'] = 2;\n",
    "mpl.rcParams['lines.linestyle'] = '--';\n",
    "mpl.rcParams[\"figure.dpi\"] = 300;\n",
    "# @hidden_cell\n",
    "#figure(figsize=(5, 2.7), layout='tight')\n",
    "#plot(B,r_ci_H,'bo--',B,r_ci_C,'go--')\n",
    "#legend(['r_ci_H+','r_ci_C+']);\n",
    "#xlabel('B, G');ylabel('r, cm');"
   ]
  },
  {
   "cell_type": "markdown",
   "id": "fa22360b",
   "metadata": {},
   "source": [
    "**1. Гирорадиусы ионов облака $r_{ci} = \\dfrac{mVc}{eB}$**"
   ]
  },
  {
   "cell_type": "code",
   "execution_count": 2,
   "id": "dca7e996",
   "metadata": {},
   "outputs": [
    {
     "data": {
      "text/html": [
       "<div>\n",
       "<style scoped>\n",
       "    .dataframe tbody tr th:only-of-type {\n",
       "        vertical-align: middle;\n",
       "    }\n",
       "\n",
       "    .dataframe tbody tr th {\n",
       "        vertical-align: top;\n",
       "    }\n",
       "\n",
       "    .dataframe thead th {\n",
       "        text-align: right;\n",
       "    }\n",
       "</style>\n",
       "<table border=\"1\" class=\"dataframe\">\n",
       "  <thead>\n",
       "    <tr style=\"text-align: right;\">\n",
       "      <th></th>\n",
       "      <th>H+ 45G</th>\n",
       "      <th>90</th>\n",
       "      <th>112</th>\n",
       "      <th>225</th>\n",
       "      <th>450</th>\n",
       "      <th>C+ 45G</th>\n",
       "      <th>90</th>\n",
       "      <th>112</th>\n",
       "      <th>225</th>\n",
       "      <th>450</th>\n",
       "    </tr>\n",
       "  </thead>\n",
       "  <tbody>\n",
       "    <tr>\n",
       "      <th>10 km/s</th>\n",
       "      <td>1.9</td>\n",
       "      <td>1.2</td>\n",
       "      <td>0.9</td>\n",
       "      <td>0.5</td>\n",
       "      <td>0.2</td>\n",
       "      <td>22.8</td>\n",
       "      <td>14.4</td>\n",
       "      <td>10.8</td>\n",
       "      <td>6.0</td>\n",
       "      <td>2.4</td>\n",
       "    </tr>\n",
       "    <tr>\n",
       "      <th>20 km/s</th>\n",
       "      <td>3.7</td>\n",
       "      <td>2.3</td>\n",
       "      <td>1.9</td>\n",
       "      <td>0.9</td>\n",
       "      <td>0.5</td>\n",
       "      <td>44.4</td>\n",
       "      <td>27.6</td>\n",
       "      <td>22.8</td>\n",
       "      <td>10.8</td>\n",
       "      <td>6.0</td>\n",
       "    </tr>\n",
       "    <tr>\n",
       "      <th>30 km/s</th>\n",
       "      <td>5.6</td>\n",
       "      <td>3.5</td>\n",
       "      <td>2.8</td>\n",
       "      <td>1.4</td>\n",
       "      <td>0.7</td>\n",
       "      <td>67.2</td>\n",
       "      <td>42.0</td>\n",
       "      <td>33.6</td>\n",
       "      <td>16.8</td>\n",
       "      <td>8.4</td>\n",
       "    </tr>\n",
       "  </tbody>\n",
       "</table>\n",
       "</div>"
      ],
      "text/plain": [
       "         H+ 45G   90  112  225  450  C+ 45G    90   112   225  450\n",
       "10 km/s     1.9  1.2  0.9  0.5  0.2    22.8  14.4  10.8   6.0  2.4\n",
       "20 km/s     3.7  2.3  1.9  0.9  0.5    44.4  27.6  22.8  10.8  6.0\n",
       "30 km/s     5.6  3.5  2.8  1.4  0.7    67.2  42.0  33.6  16.8  8.4"
      ]
     },
     "execution_count": 2,
     "metadata": {},
     "output_type": "execute_result"
    }
   ],
   "source": [
    "e = 4.8e-10;\n",
    "B = np.array([56,90,112,225,450]); #Гс\n",
    "c = 3e10; #cm/s\n",
    "m_H = 1.67e-24; #g\n",
    "V = np.array([[1e6],[2e6],[3e6]]);\n",
    "r_ci_H =np.round(m_H*V*c/(e*B),1); #cm\n",
    "r_ci_C = r_ci_H*12; \n",
    "d = np.hstack((r_ci_H,r_ci_C));\n",
    "\n",
    "pd.DataFrame(d,index=[\"10 km/s\",\"20 km/s\",\"30 km/s\"],\\\n",
    "                 columns=[\"H+ 45G\",\"90\",\"112\",\"225\",\"450\",\\\n",
    "                          \"C+ 45G\",\"90\",\"112\",\"225\",\"450\"])"
   ]
  },
  {
   "cell_type": "markdown",
   "id": "dc45e68e",
   "metadata": {},
   "source": [
    "---\n",
    "**2. Классический радиус торможения $R_B = (\\dfrac{3E_0}{B_0^2})^{1/3}$, параметр замагниченности $\\epsilon _B = \\dfrac{r_{ci}}{R_B}$, число желобков $K = \\dfrac{8\\pi}{\\epsilon_B}$**"
   ]
  },
  {
   "cell_type": "code",
   "execution_count": 3,
   "id": "e6f6ee6c",
   "metadata": {},
   "outputs": [
    {
     "name": "stdout",
     "output_type": "stream",
     "text": [
      "радиус торможения RB\n"
     ]
    },
    {
     "data": {
      "text/html": [
       "<div>\n",
       "<style scoped>\n",
       "    .dataframe tbody tr th:only-of-type {\n",
       "        vertical-align: middle;\n",
       "    }\n",
       "\n",
       "    .dataframe tbody tr th {\n",
       "        vertical-align: top;\n",
       "    }\n",
       "\n",
       "    .dataframe thead th {\n",
       "        text-align: right;\n",
       "    }\n",
       "</style>\n",
       "<table border=\"1\" class=\"dataframe\">\n",
       "  <thead>\n",
       "    <tr style=\"text-align: right;\">\n",
       "      <th></th>\n",
       "      <th>45G</th>\n",
       "      <th>90</th>\n",
       "      <th>112</th>\n",
       "      <th>225</th>\n",
       "      <th>450</th>\n",
       "    </tr>\n",
       "  </thead>\n",
       "  <tbody>\n",
       "    <tr>\n",
       "      <th>RB</th>\n",
       "      <td>9.9</td>\n",
       "      <td>7.2</td>\n",
       "      <td>6.2</td>\n",
       "      <td>3.9</td>\n",
       "      <td>2.5</td>\n",
       "    </tr>\n",
       "  </tbody>\n",
       "</table>\n",
       "</div>"
      ],
      "text/plain": [
       "    45G   90  112  225  450\n",
       "RB  9.9  7.2  6.2  3.9  2.5"
      ]
     },
     "execution_count": 3,
     "metadata": {},
     "output_type": "execute_result"
    }
   ],
   "source": [
    "E0 = 0.1*1e7; #эрг\n",
    "RB = (3*E0/B**2)**(1/3);RB = np.round(RB,1)\n",
    "\n",
    "epsB_H = np.round((r_ci_H/RB),2);\n",
    "epsB_C = np.round((r_ci_C/RB),2);\n",
    "epsB = np.hstack((epsB_H,epsB_C));\n",
    "\n",
    "K_H = 8*3.14/epsB_H;K_C = 8*3.14/epsB_C;\n",
    "K = np.rint(np.hstack((K_H,K_C)));\n",
    "\n",
    "print(\"радиус торможения RB\")\n",
    "RB = RB.reshape(1,5)\n",
    "pd.DataFrame(RB,index=[\"RB\"],columns=[\"45G\",\"90\",\"112\",\"225\",\"450\"])"
   ]
  },
  {
   "cell_type": "code",
   "execution_count": 4,
   "id": "b043424e",
   "metadata": {},
   "outputs": [
    {
     "name": "stdout",
     "output_type": "stream",
     "text": [
      "параметр замагниченности eps_B\n"
     ]
    },
    {
     "data": {
      "text/html": [
       "<div>\n",
       "<style scoped>\n",
       "    .dataframe tbody tr th:only-of-type {\n",
       "        vertical-align: middle;\n",
       "    }\n",
       "\n",
       "    .dataframe tbody tr th {\n",
       "        vertical-align: top;\n",
       "    }\n",
       "\n",
       "    .dataframe thead th {\n",
       "        text-align: right;\n",
       "    }\n",
       "</style>\n",
       "<table border=\"1\" class=\"dataframe\">\n",
       "  <thead>\n",
       "    <tr style=\"text-align: right;\">\n",
       "      <th></th>\n",
       "      <th>H+ 45G</th>\n",
       "      <th>90</th>\n",
       "      <th>112</th>\n",
       "      <th>225</th>\n",
       "      <th>450</th>\n",
       "      <th>C+ 45G</th>\n",
       "      <th>90</th>\n",
       "      <th>112</th>\n",
       "      <th>225</th>\n",
       "      <th>450</th>\n",
       "    </tr>\n",
       "  </thead>\n",
       "  <tbody>\n",
       "    <tr>\n",
       "      <th>epsB при V=10 km/s</th>\n",
       "      <td>0.19</td>\n",
       "      <td>0.17</td>\n",
       "      <td>0.15</td>\n",
       "      <td>0.13</td>\n",
       "      <td>0.08</td>\n",
       "      <td>2.30</td>\n",
       "      <td>2.00</td>\n",
       "      <td>1.74</td>\n",
       "      <td>1.54</td>\n",
       "      <td>0.96</td>\n",
       "    </tr>\n",
       "    <tr>\n",
       "      <th>20 km/s</th>\n",
       "      <td>0.37</td>\n",
       "      <td>0.32</td>\n",
       "      <td>0.31</td>\n",
       "      <td>0.23</td>\n",
       "      <td>0.20</td>\n",
       "      <td>4.48</td>\n",
       "      <td>3.83</td>\n",
       "      <td>3.68</td>\n",
       "      <td>2.77</td>\n",
       "      <td>2.40</td>\n",
       "    </tr>\n",
       "    <tr>\n",
       "      <th>30 km/s</th>\n",
       "      <td>0.57</td>\n",
       "      <td>0.49</td>\n",
       "      <td>0.45</td>\n",
       "      <td>0.36</td>\n",
       "      <td>0.28</td>\n",
       "      <td>6.79</td>\n",
       "      <td>5.83</td>\n",
       "      <td>5.42</td>\n",
       "      <td>4.31</td>\n",
       "      <td>3.36</td>\n",
       "    </tr>\n",
       "  </tbody>\n",
       "</table>\n",
       "</div>"
      ],
      "text/plain": [
       "                    H+ 45G    90   112   225   450  C+ 45G    90   112   225  \\\n",
       "epsB при V=10 km/s    0.19  0.17  0.15  0.13  0.08    2.30  2.00  1.74  1.54   \n",
       "20 km/s               0.37  0.32  0.31  0.23  0.20    4.48  3.83  3.68  2.77   \n",
       "30 km/s               0.57  0.49  0.45  0.36  0.28    6.79  5.83  5.42  4.31   \n",
       "\n",
       "                     450  \n",
       "epsB при V=10 km/s  0.96  \n",
       "20 km/s             2.40  \n",
       "30 km/s             3.36  "
      ]
     },
     "execution_count": 4,
     "metadata": {},
     "output_type": "execute_result"
    }
   ],
   "source": [
    "print(\"параметр замагниченности eps_B\")\n",
    "pd.DataFrame(epsB,index=[\"epsB при V=10 km/s\",\"20 km/s\",\"30 km/s\"],columns=[\"H+ 45G\",\"90\",\"112\",\"225\",\"450\",\"C+ 45G\",\"90\",\"112\",\"225\",\"450\"])\n"
   ]
  },
  {
   "cell_type": "code",
   "execution_count": 5,
   "id": "53abbafd",
   "metadata": {},
   "outputs": [
    {
     "name": "stdout",
     "output_type": "stream",
     "text": [
      "Количество желобков K\n"
     ]
    },
    {
     "data": {
      "text/html": [
       "<div>\n",
       "<style scoped>\n",
       "    .dataframe tbody tr th:only-of-type {\n",
       "        vertical-align: middle;\n",
       "    }\n",
       "\n",
       "    .dataframe tbody tr th {\n",
       "        vertical-align: top;\n",
       "    }\n",
       "\n",
       "    .dataframe thead th {\n",
       "        text-align: right;\n",
       "    }\n",
       "</style>\n",
       "<table border=\"1\" class=\"dataframe\">\n",
       "  <thead>\n",
       "    <tr style=\"text-align: right;\">\n",
       "      <th></th>\n",
       "      <th>H+ 45G</th>\n",
       "      <th>90</th>\n",
       "      <th>112</th>\n",
       "      <th>225</th>\n",
       "      <th>450</th>\n",
       "      <th>C+ 45G</th>\n",
       "      <th>90</th>\n",
       "      <th>112</th>\n",
       "      <th>225</th>\n",
       "      <th>450</th>\n",
       "    </tr>\n",
       "  </thead>\n",
       "  <tbody>\n",
       "    <tr>\n",
       "      <th>K при V=10 km/s</th>\n",
       "      <td>132.0</td>\n",
       "      <td>148.0</td>\n",
       "      <td>167.0</td>\n",
       "      <td>193.0</td>\n",
       "      <td>314.0</td>\n",
       "      <td>11.0</td>\n",
       "      <td>13.0</td>\n",
       "      <td>14.0</td>\n",
       "      <td>16.0</td>\n",
       "      <td>26.0</td>\n",
       "    </tr>\n",
       "    <tr>\n",
       "      <th>20 km/s</th>\n",
       "      <td>68.0</td>\n",
       "      <td>78.0</td>\n",
       "      <td>81.0</td>\n",
       "      <td>109.0</td>\n",
       "      <td>126.0</td>\n",
       "      <td>6.0</td>\n",
       "      <td>7.0</td>\n",
       "      <td>7.0</td>\n",
       "      <td>9.0</td>\n",
       "      <td>10.0</td>\n",
       "    </tr>\n",
       "    <tr>\n",
       "      <th>30 km/s</th>\n",
       "      <td>44.0</td>\n",
       "      <td>51.0</td>\n",
       "      <td>56.0</td>\n",
       "      <td>70.0</td>\n",
       "      <td>90.0</td>\n",
       "      <td>4.0</td>\n",
       "      <td>4.0</td>\n",
       "      <td>5.0</td>\n",
       "      <td>6.0</td>\n",
       "      <td>7.0</td>\n",
       "    </tr>\n",
       "  </tbody>\n",
       "</table>\n",
       "</div>"
      ],
      "text/plain": [
       "                 H+ 45G     90    112    225    450  C+ 45G    90   112   225  \\\n",
       "K при V=10 km/s   132.0  148.0  167.0  193.0  314.0    11.0  13.0  14.0  16.0   \n",
       "20 km/s            68.0   78.0   81.0  109.0  126.0     6.0   7.0   7.0   9.0   \n",
       "30 km/s            44.0   51.0   56.0   70.0   90.0     4.0   4.0   5.0   6.0   \n",
       "\n",
       "                  450  \n",
       "K при V=10 km/s  26.0  \n",
       "20 km/s          10.0  \n",
       "30 km/s           7.0  "
      ]
     },
     "execution_count": 5,
     "metadata": {},
     "output_type": "execute_result"
    }
   ],
   "source": [
    "print(\"Количество желобков K\")\n",
    "pd.DataFrame(K,index=[\"K при V=10 km/s\",\"20 km/s\",\"30 km/s\"],                 columns=[\"H+ 45G\",\"90\",\"112\",\"225\",\"450\",                         \"C+ 45G\",\"90\",\"112\",\"225\",\"450\"])\n"
   ]
  },
  {
   "cell_type": "markdown",
   "id": "b65b1ff0",
   "metadata": {},
   "source": [
    "---\n",
    "## 3. Оценки длин свободного пробега\n",
    "### 3.1 В вакуум с $p \\approx 10^{-5}$ Торр"
   ]
  },
  {
   "cell_type": "code",
   "execution_count": 6,
   "id": "31a5475b",
   "metadata": {},
   "outputs": [
    {
     "name": "stdout",
     "output_type": "stream",
     "text": [
      "n= 0.36 x10^12 cm^{-3}\n"
     ]
    }
   ],
   "source": [
    "p = 1e-5; #торр\n",
    "n = 2.7e19*p/760 #cm-3\n",
    "print(\"n=\",np.round(n/1e12,2),\"x10^12 cm^{-3}\");"
   ]
  },
  {
   "cell_type": "markdown",
   "id": "8f174c95",
   "metadata": {},
   "source": [
    "---\n",
    "$\\sigma = 2\\pi\\sqrt{\\dfrac{\\alpha e^2}{E'[Эрг]}}$ - транспортное сечение рассеяния (H+ или C+)\n",
    "\n",
    "$\\alpha = 11a_0^3$ - поляризуемость N2,02,Ar\n",
    "\n",
    "$\\alpha_{He} = 1.4a_0^3$ - для He\n",
    "\n",
    "$a_0 = 5.3\\times10^{-9}$ [cm] - боровский радиус\n",
    "\n",
    "$E' = \\dfrac{mV^2}{2}[эрг]$  при $V = 10\\div 30$ км/c"
   ]
  },
  {
   "cell_type": "code",
   "execution_count": 7,
   "id": "684096cd",
   "metadata": {},
   "outputs": [
    {
     "data": {
      "text/html": [
       "<div>\n",
       "<style scoped>\n",
       "    .dataframe tbody tr th:only-of-type {\n",
       "        vertical-align: middle;\n",
       "    }\n",
       "\n",
       "    .dataframe tbody tr th {\n",
       "        vertical-align: top;\n",
       "    }\n",
       "\n",
       "    .dataframe thead th {\n",
       "        text-align: right;\n",
       "    }\n",
       "</style>\n",
       "<table border=\"1\" class=\"dataframe\">\n",
       "  <thead>\n",
       "    <tr style=\"text-align: right;\">\n",
       "      <th></th>\n",
       "      <th>sigma_H+</th>\n",
       "      <th>sigma_C+</th>\n",
       "    </tr>\n",
       "  </thead>\n",
       "  <tbody>\n",
       "    <tr>\n",
       "      <th>V=10km/s</th>\n",
       "      <td>4.221510e-15</td>\n",
       "      <td>1.218645e-15</td>\n",
       "    </tr>\n",
       "    <tr>\n",
       "      <th>20</th>\n",
       "      <td>2.110755e-15</td>\n",
       "      <td>6.093224e-16</td>\n",
       "    </tr>\n",
       "    <tr>\n",
       "      <th>30</th>\n",
       "      <td>1.407170e-15</td>\n",
       "      <td>4.062150e-16</td>\n",
       "    </tr>\n",
       "  </tbody>\n",
       "</table>\n",
       "</div>"
      ],
      "text/plain": [
       "              sigma_H+      sigma_C+\n",
       "V=10km/s  4.221510e-15  1.218645e-15\n",
       "20        2.110755e-15  6.093224e-16\n",
       "30        1.407170e-15  4.062150e-16"
      ]
     },
     "execution_count": 7,
     "metadata": {},
     "output_type": "execute_result"
    }
   ],
   "source": [
    "e = 4.8e-10;\n",
    "V = np.array([[1e6],[2e6],[3e6]]);\n",
    "m_H = 1.67e-24;\n",
    "alpha = 11*(5.3e-9)**3;\n",
    "energy_H = m_H*V**2/2; #эрг\n",
    "\n",
    "sigma_H = 2*3.14*(alpha*e**2/energy_H)**0.5;\n",
    "sigma_C = sigma_H/(12)**0.5;\n",
    "\n",
    "sigma = np.hstack((sigma_H,sigma_C));\n",
    "pd.DataFrame(sigma,index=[\"V=10km/s\",\"20\",\"30\"],columns=[\"sigma_H+\",\"sigma_C+\"])"
   ]
  },
  {
   "cell_type": "markdown",
   "id": "00ea1b95",
   "metadata": {},
   "source": [
    "---\n",
    "$$l_{своб} = \\dfrac{1}{n\\sigma}$$"
   ]
  },
  {
   "cell_type": "code",
   "execution_count": 8,
   "id": "a8430ffb",
   "metadata": {},
   "outputs": [
    {
     "data": {
      "text/html": [
       "<div>\n",
       "<style scoped>\n",
       "    .dataframe tbody tr th:only-of-type {\n",
       "        vertical-align: middle;\n",
       "    }\n",
       "\n",
       "    .dataframe tbody tr th {\n",
       "        vertical-align: top;\n",
       "    }\n",
       "\n",
       "    .dataframe thead th {\n",
       "        text-align: right;\n",
       "    }\n",
       "</style>\n",
       "<table border=\"1\" class=\"dataframe\">\n",
       "  <thead>\n",
       "    <tr style=\"text-align: right;\">\n",
       "      <th></th>\n",
       "      <th>l_svob_H+, [cm]</th>\n",
       "      <th>l_svob_C+</th>\n",
       "    </tr>\n",
       "  </thead>\n",
       "  <tbody>\n",
       "    <tr>\n",
       "      <th>V=10km/s</th>\n",
       "      <td>666.779191</td>\n",
       "      <td>2309.790872</td>\n",
       "    </tr>\n",
       "    <tr>\n",
       "      <th>20</th>\n",
       "      <td>1333.558382</td>\n",
       "      <td>4619.581745</td>\n",
       "    </tr>\n",
       "    <tr>\n",
       "      <th>30</th>\n",
       "      <td>2000.337573</td>\n",
       "      <td>6929.372617</td>\n",
       "    </tr>\n",
       "  </tbody>\n",
       "</table>\n",
       "</div>"
      ],
      "text/plain": [
       "          l_svob_H+, [cm]    l_svob_C+\n",
       "V=10km/s       666.779191  2309.790872\n",
       "20            1333.558382  4619.581745\n",
       "30            2000.337573  6929.372617"
      ]
     },
     "execution_count": 8,
     "metadata": {},
     "output_type": "execute_result"
    }
   ],
   "source": [
    "l_vacuum = 1/(n*sigma); #cm\n",
    "pd.DataFrame(l_vacuum,index=[\"V=10km/s\",\"20\",\"30\"],columns=[\"l_svob_H+, [cm]\",\"l_svob_C+\"])"
   ]
  },
  {
   "cell_type": "markdown",
   "id": "087c74c9",
   "metadata": {},
   "source": [
    "### 3.1 H+ C+ с фоновой плазмой Ar+ He+\n",
    "$$\\sigma_{tr} = 4\\pi(\\dfrac{e^2}{\\mu V^2})^2ln\\Lambda$$\n",
    "$$\\mu = \\dfrac{m_1 m_2}{m_1+m_2}$$\n",
    "$$\\nu_{ii} = N V \\sigma_{t} = 3.85 \\times 10^{-6}\\dfrac{n_e}{T_e[эВ]} \\sqrt{\\dfrac{m_e}{m_i}} \\sqrt{2}$$"
   ]
  },
  {
   "cell_type": "code",
   "execution_count": 9,
   "id": "414829d8",
   "metadata": {},
   "outputs": [
    {
     "data": {
      "text/html": [
       "<div>\n",
       "<style scoped>\n",
       "    .dataframe tbody tr th:only-of-type {\n",
       "        vertical-align: middle;\n",
       "    }\n",
       "\n",
       "    .dataframe tbody tr th {\n",
       "        vertical-align: top;\n",
       "    }\n",
       "\n",
       "    .dataframe thead th {\n",
       "        text-align: right;\n",
       "    }\n",
       "</style>\n",
       "<table border=\"1\" class=\"dataframe\">\n",
       "  <thead>\n",
       "    <tr style=\"text-align: right;\">\n",
       "      <th></th>\n",
       "      <th>nu H+_Ar+[1/c]</th>\n",
       "      <th>H+_He+</th>\n",
       "      <th>C+_Ar+</th>\n",
       "      <th>C+_He+</th>\n",
       "    </tr>\n",
       "  </thead>\n",
       "  <tbody>\n",
       "    <tr>\n",
       "      <th>V=10km/s</th>\n",
       "      <td>2.511709e+06</td>\n",
       "      <td>3.735439e+06</td>\n",
       "      <td>28057.298921</td>\n",
       "      <td>265631.232386</td>\n",
       "    </tr>\n",
       "    <tr>\n",
       "      <th>20</th>\n",
       "      <td>3.139637e+05</td>\n",
       "      <td>4.669299e+05</td>\n",
       "      <td>3507.162365</td>\n",
       "      <td>33203.904048</td>\n",
       "    </tr>\n",
       "    <tr>\n",
       "      <th>30</th>\n",
       "      <td>9.302627e+04</td>\n",
       "      <td>1.383496e+05</td>\n",
       "      <td>1039.159219</td>\n",
       "      <td>9838.193792</td>\n",
       "    </tr>\n",
       "  </tbody>\n",
       "</table>\n",
       "</div>"
      ],
      "text/plain": [
       "          nu H+_Ar+[1/c]        H+_He+        C+_Ar+         C+_He+\n",
       "V=10km/s    2.511709e+06  3.735439e+06  28057.298921  265631.232386\n",
       "20          3.139637e+05  4.669299e+05   3507.162365   33203.904048\n",
       "30          9.302627e+04  1.383496e+05   1039.159219    9838.193792"
      ]
     },
     "execution_count": 9,
     "metadata": {},
     "output_type": "execute_result"
    }
   ],
   "source": [
    "lnL = 10;\n",
    "Nn = 1e12;\n",
    "V = np.array([[1e6],[2e6],[3e6]]);\n",
    "Te = 1; \n",
    "mu_H_Ar = m_H*40/41;\n",
    "mu_H_He = m_H*4/5;\n",
    "mu_C_Ar = m_H*12*40/(12+40);\n",
    "mu_C_He = m_H*12*4/16;\n",
    "# print(mu_H_Ar)\n",
    "sigma_H_Ar = 4*3.14*(e**2/(mu_H_Ar*V**2))**2*lnL;\n",
    "sigma_H_He = 4*3.14*(e**2/(mu_H_He*V**2))**2*lnL;\n",
    "sigma_C_Ar = 4*3.14*(e**2/(mu_C_Ar*V**2))**2*lnL;\n",
    "sigma_C_He = 4*3.14*(e**2/(mu_C_He*V**2))**2*lnL;\n",
    "sigma = np.hstack((sigma_H_Ar,sigma_H_He,sigma_C_Ar,sigma_C_He))\n",
    "\n",
    "\n",
    "nu_H_Ar_1 = 3.85e-6*Nn/Te**1.5/(1836)**0.5*1.41;#тут подставлена me/me=1836, а не 1836*40;\n",
    "\n",
    "nu_H_Ar = Nn*V*sigma_H_Ar;\n",
    "nu_H_He = Nn*V*sigma_H_He;\n",
    "nu_C_Ar = Nn*V*sigma_C_Ar;\n",
    "nu_C_He = Nn*V*sigma_C_He;\n",
    "nu = np.hstack((nu_H_Ar,nu_H_He,nu_C_Ar,nu_C_He))\n",
    "pd.DataFrame(nu,index=[\"V=10km/s\",\"20\",\"30\"],columns=[\"nu H+_Ar+[1/c]\",\"H+_He+\",\"C+_Ar+\",\"C+_He+\"])"
   ]
  },
  {
   "cell_type": "markdown",
   "id": "a0bafe81",
   "metadata": {},
   "source": [
    "---\n",
    "$l_{своб} = \\dfrac{1}{n\\sigma}$ при $n = 10^{13} см^{-3}$"
   ]
  },
  {
   "cell_type": "code",
   "execution_count": 10,
   "id": "82674b9b",
   "metadata": {},
   "outputs": [
    {
     "data": {
      "text/html": [
       "<div>\n",
       "<style scoped>\n",
       "    .dataframe tbody tr th:only-of-type {\n",
       "        vertical-align: middle;\n",
       "    }\n",
       "\n",
       "    .dataframe tbody tr th {\n",
       "        vertical-align: top;\n",
       "    }\n",
       "\n",
       "    .dataframe thead th {\n",
       "        text-align: right;\n",
       "    }\n",
       "</style>\n",
       "<table border=\"1\" class=\"dataframe\">\n",
       "  <thead>\n",
       "    <tr style=\"text-align: right;\">\n",
       "      <th></th>\n",
       "      <th>L H+_Ar+[cm]</th>\n",
       "      <th>H+_He+</th>\n",
       "      <th>C+_Ar+</th>\n",
       "      <th>C+_He+</th>\n",
       "    </tr>\n",
       "  </thead>\n",
       "  <tbody>\n",
       "    <tr>\n",
       "      <th>V=10km/s</th>\n",
       "      <td>0.04</td>\n",
       "      <td>0.03</td>\n",
       "      <td>3.56</td>\n",
       "      <td>0.38</td>\n",
       "    </tr>\n",
       "    <tr>\n",
       "      <th>20</th>\n",
       "      <td>0.64</td>\n",
       "      <td>0.43</td>\n",
       "      <td>57.03</td>\n",
       "      <td>6.02</td>\n",
       "    </tr>\n",
       "    <tr>\n",
       "      <th>30</th>\n",
       "      <td>3.22</td>\n",
       "      <td>2.17</td>\n",
       "      <td>288.69</td>\n",
       "      <td>30.49</td>\n",
       "    </tr>\n",
       "  </tbody>\n",
       "</table>\n",
       "</div>"
      ],
      "text/plain": [
       "          L H+_Ar+[cm]  H+_He+  C+_Ar+  C+_He+\n",
       "V=10km/s          0.04    0.03    3.56    0.38\n",
       "20                0.64    0.43   57.03    6.02\n",
       "30                3.22    2.17  288.69   30.49"
      ]
     },
     "execution_count": 10,
     "metadata": {},
     "output_type": "execute_result"
    }
   ],
   "source": [
    "l_sv = 1/1e13/sigma;\n",
    "pd.DataFrame(np.round(l_sv,2),index=[\"V=10km/s\",\"20\",\"30\"],columns=[\"L H+_Ar+[cm]\",\"H+_He+\",\"C+_Ar+\",\"C+_He+\"])"
   ]
  },
  {
   "cell_type": "code",
   "execution_count": null,
   "id": "a095a612",
   "metadata": {},
   "outputs": [],
   "source": []
  }
 ],
 "metadata": {
  "kernelspec": {
   "display_name": "Python 3 (ipykernel)",
   "language": "python",
   "name": "python3"
  },
  "language_info": {
   "codemirror_mode": {
    "name": "ipython",
    "version": 3
   },
   "file_extension": ".py",
   "mimetype": "text/x-python",
   "name": "python",
   "nbconvert_exporter": "python",
   "pygments_lexer": "ipython3",
   "version": "3.11.2"
  }
 },
 "nbformat": 4,
 "nbformat_minor": 5
}
